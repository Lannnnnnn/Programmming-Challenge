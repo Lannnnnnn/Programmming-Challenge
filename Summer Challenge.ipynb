{
 "cells": [
  {
   "cell_type": "code",
   "execution_count": 124,
   "id": "2c91afa0",
   "metadata": {},
   "outputs": [],
   "source": [
    "import requests\n",
    "import tqdm\n",
    "from tqdm.notebook import tqdm_notebook\n",
    "import json\n",
    "from bs4 import BeautifulSoup"
   ]
  },
  {
   "cell_type": "code",
   "execution_count": null,
   "id": "b427992c",
   "metadata": {},
   "outputs": [],
   "source": []
  },
  {
   "cell_type": "code",
   "execution_count": 1,
   "id": "f0865d9d",
   "metadata": {},
   "outputs": [],
   "source": [
    "input_url = 'https://www.aljazeera.com/where/mozambique/'"
   ]
  },
  {
   "cell_type": "code",
   "execution_count": 3,
   "id": "e85f697e",
   "metadata": {},
   "outputs": [
    {
     "data": {
      "text/plain": [
       "<Response [200]>"
      ]
     },
     "execution_count": 3,
     "metadata": {},
     "output_type": "execute_result"
    }
   ],
   "source": [
    "page = requests.get(input_url)\n",
    "page"
   ]
  },
  {
   "cell_type": "code",
   "execution_count": 5,
   "id": "fb0fdaca",
   "metadata": {},
   "outputs": [],
   "source": [
    "soup = BeautifulSoup(page.content, \"html.parser\")"
   ]
  },
  {
   "cell_type": "code",
   "execution_count": 25,
   "id": "f36158c2",
   "metadata": {
    "scrolled": false
   },
   "outputs": [],
   "source": [
    "news_link = soup.find_all('a', class_ = 'u-clickable-card__link', href = True)"
   ]
  },
  {
   "cell_type": "code",
   "execution_count": 34,
   "id": "82db4cb8",
   "metadata": {},
   "outputs": [],
   "source": [
    "fr = input_url.split('.com')[0] + '.com'\n",
    "news_url = fr + a[0]['href']"
   ]
  },
  {
   "cell_type": "code",
   "execution_count": 37,
   "id": "044573a7",
   "metadata": {},
   "outputs": [],
   "source": [
    "new_p = requests.get(news_url)"
   ]
  },
  {
   "cell_type": "code",
   "execution_count": 58,
   "id": "4d105933",
   "metadata": {},
   "outputs": [
    {
     "data": {
      "text/plain": [
       "'Heavy rains in South Africa have forced hundreds of people to flee their homes on the east coast, according to officials, only a month after the worst floods in living memory killed more than 400.\\nThe floods over the weekend hit infrastructure, roads, bridges and damaged buildings, mainly in the port city of Durban, the capital of KwaZulu-Natal province and home to some 3.9 million people.“Some areas are inaccessible and have become islands at this stage,” KwaZulu-Natal Premier Sihle Zikalala said during a news conference on Sunday.\\nNo fatalities were immediately recorded, but Zikalala added: “We are yet to receive a full comprehensive report on the impact of these latest heavy rains, but as reports come in a worrying picture is however emerging.”\\nIn April, torrential rain led to floods, landslides and the death of 435 people in KwaZulu-Natal and authorities said survivors were left without drinking water for nearly two weeks. Repairs are still ongoing after the floods caused damage worth hundreds of millions of dollars.\\nOn Sunday, parts of the road near the Umdloti beach resort north of Durban had been washed away, leaving gaping holes and cars balanced on the edge, AFP news agency reported.“The flooding started late yesterday [Saturday] afternoon but as a result of the collapse of this road we couldn’t get out,” one local resident, Kevin Govender, told AFP.They were only able to get out once the emergency services arrived on Sunday.Nearly 250 people were evacuated from the resort town overnight and rescue operations continued on Sunday, as the emergency services received more calls for help. Some homes have lost power.\\nThe water purification station for the eThekwini area close to Durban has also been damaged, said officials.The South African Weather Service put the alert level at the highest on Saturday. Officials called on residents to stay at home.Authorities in KwaZulu-Natal opened 82 reception centres while police, firefighters and rescue workers were ready to respond rapidly to emergencies. The army has also been called in for reinforcement and officials have evacuated elderly people in several villages.On Monday, the weather service said conditions had improved significantly but still they expect the rains to continue in parts of the province.'"
      ]
     },
     "execution_count": 58,
     "metadata": {},
     "output_type": "execute_result"
    }
   ],
   "source": [
    "para = BeautifulSoup(new_p.content, \"html.parser\").find_all('p', class_ = '')\n",
    "article = ''\n",
    "for i in para:\n",
    "    article += i.text\n",
    "article"
   ]
  },
  {
   "cell_type": "code",
   "execution_count": 115,
   "id": "ba8480ee",
   "metadata": {},
   "outputs": [
    {
     "data": {
      "text/plain": [
       "'News|FloodsFloods'"
      ]
     },
     "execution_count": 115,
     "metadata": {},
     "output_type": "execute_result"
    }
   ],
   "source": [
    "BeautifulSoup(new_p.content, \"html.parser\").find('header', class_ = 'article-header').text.split(' ')[0]"
   ]
  },
  {
   "cell_type": "code",
   "execution_count": 67,
   "id": "479689a6",
   "metadata": {},
   "outputs": [],
   "source": [
    "with open('2.json', 'w+') as f:\n",
    "    json.dump(article, f)"
   ]
  },
  {
   "cell_type": "code",
   "execution_count": 128,
   "id": "0f4ee3fd",
   "metadata": {},
   "outputs": [],
   "source": [
    "def extract_news(url, output_folder_path):\n",
    "    # split the main website url \n",
    "    fr = url.split('.com')[0] + '.com'\n",
    "    \n",
    "    # get the website information through the requests module\n",
    "    try:\n",
    "        page = requests.get(url)\n",
    "    # if not accessible,  print error information\n",
    "    except Exception as e:\n",
    "        print('Link can not be accessed: ', url)\n",
    "        return\n",
    "    \n",
    "    # extract the data from the requested html using beautifulSoup\n",
    "    soup = BeautifulSoup(page.content, \"html.parser\")\n",
    "    # get all the news link from the website\n",
    "    news_link = soup.find_all('a', class_ = 'u-clickable-card__link', href = True)\n",
    "    \n",
    "    # save the page from each news page\n",
    "    for idx in tqdm_notebook(range(10), desc = 'Extract the news'):\n",
    "        i = news_link[idx]\n",
    "        # concatenate the news url with the main website url\n",
    "        news_url = fr + i['href']\n",
    "        # initialize the article\n",
    "        article = ''\n",
    "        \n",
    "        # get the news information through the requests module\n",
    "        try:\n",
    "            news_page = requests.get(news_url)\n",
    "        # if not accessible,  print error information\n",
    "        except Exception as e:\n",
    "            print('Link can not be accessed: ', news_url)\n",
    "            continue\n",
    "        \n",
    "        # get the news element and combine them to be article\n",
    "        all_para = BeautifulSoup(news_page.content, \"html.parser\").find_all('p')\n",
    "        for p in all_para:\n",
    "            article += p.text\n",
    "        \n",
    "        # save the article to the folder\n",
    "        with open(output_folder_path + str(idx) + '.json', 'w+') as f:\n",
    "            json.dump(article, f)\n",
    "    return"
   ]
  },
  {
   "cell_type": "code",
   "execution_count": 129,
   "id": "07acdc17",
   "metadata": {},
   "outputs": [
    {
     "data": {
      "application/vnd.jupyter.widget-view+json": {
       "model_id": "c7d438cc82a8490cbbf852306f9cd668",
       "version_major": 2,
       "version_minor": 0
      },
      "text/plain": [
       "Extract the news:   0%|          | 0/10 [00:00<?, ?it/s]"
      ]
     },
     "metadata": {},
     "output_type": "display_data"
    }
   ],
   "source": [
    "extract_news(input_url, 'article/')"
   ]
  },
  {
   "cell_type": "code",
   "execution_count": 143,
   "id": "8f302307",
   "metadata": {},
   "outputs": [],
   "source": [
    "with open('url.txt') as f:\n",
    "    k = f.readlines()"
   ]
  },
  {
   "cell_type": "code",
   "execution_count": 148,
   "id": "49300dca",
   "metadata": {},
   "outputs": [
    {
     "data": {
      "text/plain": [
       "'https://www.aljazeera.com/where/mozambique/'"
      ]
     },
     "execution_count": 148,
     "metadata": {},
     "output_type": "execute_result"
    }
   ],
   "source": [
    "k[0].rstrip('\\n')"
   ]
  },
  {
   "cell_type": "code",
   "execution_count": 149,
   "id": "2e11170f",
   "metadata": {},
   "outputs": [
    {
     "data": {
      "application/vnd.jupyter.widget-view+json": {
       "model_id": "8cff1a5fad434881b1d90264864bc2cb",
       "version_major": 2,
       "version_minor": 0
      },
      "text/plain": [
       "Extract the news:   0%|          | 0/10 [00:00<?, ?it/s]"
      ]
     },
     "metadata": {},
     "output_type": "display_data"
    }
   ],
   "source": [
    "extract_news(k[0].replace('\\n', ''), 'article/')"
   ]
  },
  {
   "cell_type": "code",
   "execution_count": null,
   "id": "0740a710",
   "metadata": {},
   "outputs": [],
   "source": []
  }
 ],
 "metadata": {
  "kernelspec": {
   "display_name": "Python 3",
   "language": "python",
   "name": "python3"
  },
  "language_info": {
   "codemirror_mode": {
    "name": "ipython",
    "version": 3
   },
   "file_extension": ".py",
   "mimetype": "text/x-python",
   "name": "python",
   "nbconvert_exporter": "python",
   "pygments_lexer": "ipython3",
   "version": "3.9.4"
  }
 },
 "nbformat": 4,
 "nbformat_minor": 5
}
